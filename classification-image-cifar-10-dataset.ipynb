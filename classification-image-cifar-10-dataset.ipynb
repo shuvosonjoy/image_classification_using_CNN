{
 "cells": [
  {
   "cell_type": "code",
   "execution_count": 1,
   "id": "4cd959bf",
   "metadata": {
    "_cell_guid": "b1076dfc-b9ad-4769-8c92-a6c4dae69d19",
    "_uuid": "8f2839f25d086af736a60e9eeb907d3b93b6e0e5",
    "execution": {
     "iopub.execute_input": "2024-06-16T16:00:20.763318Z",
     "iopub.status.busy": "2024-06-16T16:00:20.762912Z",
     "iopub.status.idle": "2024-06-16T16:00:32.145606Z",
     "shell.execute_reply": "2024-06-16T16:00:32.144791Z"
    },
    "papermill": {
     "duration": 11.394055,
     "end_time": "2024-06-16T16:00:32.147942",
     "exception": false,
     "start_time": "2024-06-16T16:00:20.753887",
     "status": "completed"
    },
    "tags": []
   },
   "outputs": [
    {
     "name": "stderr",
     "output_type": "stream",
     "text": [
      "2024-06-16 16:00:22.215547: E external/local_xla/xla/stream_executor/cuda/cuda_dnn.cc:9261] Unable to register cuDNN factory: Attempting to register factory for plugin cuDNN when one has already been registered\n",
      "2024-06-16 16:00:22.215672: E external/local_xla/xla/stream_executor/cuda/cuda_fft.cc:607] Unable to register cuFFT factory: Attempting to register factory for plugin cuFFT when one has already been registered\n",
      "2024-06-16 16:00:22.314049: E external/local_xla/xla/stream_executor/cuda/cuda_blas.cc:1515] Unable to register cuBLAS factory: Attempting to register factory for plugin cuBLAS when one has already been registered\n"
     ]
    }
   ],
   "source": [
    "import tensorflow as tf\n",
    "from tensorflow.keras import datasets,models,layers\n",
    "import matplotlib.pyplot as plt\n",
    "import numpy as np"
   ]
  },
  {
   "cell_type": "code",
   "execution_count": 2,
   "id": "27a7b46e",
   "metadata": {
    "execution": {
     "iopub.execute_input": "2024-06-16T16:00:32.164043Z",
     "iopub.status.busy": "2024-06-16T16:00:32.163489Z",
     "iopub.status.idle": "2024-06-16T16:00:36.983574Z",
     "shell.execute_reply": "2024-06-16T16:00:36.982713Z"
    },
    "papermill": {
     "duration": 4.830071,
     "end_time": "2024-06-16T16:00:36.985552",
     "exception": false,
     "start_time": "2024-06-16T16:00:32.155481",
     "status": "completed"
    },
    "tags": []
   },
   "outputs": [
    {
     "name": "stdout",
     "output_type": "stream",
     "text": [
      "Downloading data from https://www.cs.toronto.edu/~kriz/cifar-10-python.tar.gz\n",
      "\u001b[1m170498071/170498071\u001b[0m \u001b[32m━━━━━━━━━━━━━━━━━━━━\u001b[0m\u001b[37m\u001b[0m \u001b[1m2s\u001b[0m 0us/step\n"
     ]
    },
    {
     "data": {
      "text/plain": [
       "(50000, 32, 32, 3)"
      ]
     },
     "execution_count": 2,
     "metadata": {},
     "output_type": "execute_result"
    }
   ],
   "source": [
    "(x_train, y_train), (x_test,y_test)=datasets.cifar10.load_data()\n",
    "x_train.shape\n",
    "#50000 image,pixel(32X32) ,3 indicates(RGB)..."
   ]
  },
  {
   "cell_type": "code",
   "execution_count": 3,
   "id": "47813ff4",
   "metadata": {
    "execution": {
     "iopub.execute_input": "2024-06-16T16:00:37.008759Z",
     "iopub.status.busy": "2024-06-16T16:00:37.008292Z",
     "iopub.status.idle": "2024-06-16T16:00:37.013671Z",
     "shell.execute_reply": "2024-06-16T16:00:37.012777Z"
    },
    "papermill": {
     "duration": 0.018897,
     "end_time": "2024-06-16T16:00:37.015526",
     "exception": false,
     "start_time": "2024-06-16T16:00:36.996629",
     "status": "completed"
    },
    "tags": []
   },
   "outputs": [
    {
     "data": {
      "text/plain": [
       "(10000, 32, 32, 3)"
      ]
     },
     "execution_count": 3,
     "metadata": {},
     "output_type": "execute_result"
    }
   ],
   "source": [
    "x_test.shape"
   ]
  },
  {
   "cell_type": "code",
   "execution_count": 4,
   "id": "b0eb0d77",
   "metadata": {
    "execution": {
     "iopub.execute_input": "2024-06-16T16:00:37.038722Z",
     "iopub.status.busy": "2024-06-16T16:00:37.038150Z",
     "iopub.status.idle": "2024-06-16T16:00:37.043502Z",
     "shell.execute_reply": "2024-06-16T16:00:37.042610Z"
    },
    "papermill": {
     "duration": 0.018939,
     "end_time": "2024-06-16T16:00:37.045363",
     "exception": false,
     "start_time": "2024-06-16T16:00:37.026424",
     "status": "completed"
    },
    "tags": []
   },
   "outputs": [
    {
     "data": {
      "text/plain": [
       "(50000, 1)"
      ]
     },
     "execution_count": 4,
     "metadata": {},
     "output_type": "execute_result"
    }
   ],
   "source": [
    "y_train.shape"
   ]
  },
  {
   "cell_type": "code",
   "execution_count": 5,
   "id": "be5d32de",
   "metadata": {
    "execution": {
     "iopub.execute_input": "2024-06-16T16:00:37.068801Z",
     "iopub.status.busy": "2024-06-16T16:00:37.068298Z",
     "iopub.status.idle": "2024-06-16T16:00:37.074192Z",
     "shell.execute_reply": "2024-06-16T16:00:37.073339Z"
    },
    "papermill": {
     "duration": 0.019684,
     "end_time": "2024-06-16T16:00:37.076086",
     "exception": false,
     "start_time": "2024-06-16T16:00:37.056402",
     "status": "completed"
    },
    "tags": []
   },
   "outputs": [
    {
     "data": {
      "text/plain": [
       "array([[6],\n",
       "       [9],\n",
       "       [9],\n",
       "       [4],\n",
       "       [1],\n",
       "       [1],\n",
       "       [2]], dtype=uint8)"
      ]
     },
     "execution_count": 5,
     "metadata": {},
     "output_type": "execute_result"
    }
   ],
   "source": [
    "y_train[:7]"
   ]
  },
  {
   "cell_type": "code",
   "execution_count": 6,
   "id": "2302da5e",
   "metadata": {
    "execution": {
     "iopub.execute_input": "2024-06-16T16:00:37.100559Z",
     "iopub.status.busy": "2024-06-16T16:00:37.100237Z",
     "iopub.status.idle": "2024-06-16T16:00:37.105282Z",
     "shell.execute_reply": "2024-06-16T16:00:37.104617Z"
    },
    "papermill": {
     "duration": 0.020079,
     "end_time": "2024-06-16T16:00:37.107329",
     "exception": false,
     "start_time": "2024-06-16T16:00:37.087250",
     "status": "completed"
    },
    "tags": []
   },
   "outputs": [
    {
     "data": {
      "text/plain": [
       "(10000, 1)"
      ]
     },
     "execution_count": 6,
     "metadata": {},
     "output_type": "execute_result"
    }
   ],
   "source": [
    "y_test.shape"
   ]
  },
  {
   "cell_type": "code",
   "execution_count": 7,
   "id": "542b31ab",
   "metadata": {
    "execution": {
     "iopub.execute_input": "2024-06-16T16:00:37.131202Z",
     "iopub.status.busy": "2024-06-16T16:00:37.130917Z",
     "iopub.status.idle": "2024-06-16T16:00:37.135041Z",
     "shell.execute_reply": "2024-06-16T16:00:37.134193Z"
    },
    "papermill": {
     "duration": 0.018174,
     "end_time": "2024-06-16T16:00:37.137038",
     "exception": false,
     "start_time": "2024-06-16T16:00:37.118864",
     "status": "completed"
    },
    "tags": []
   },
   "outputs": [],
   "source": [
    "labels=[\"airplane\",\"automobile\",\"bird\",\"cat\",\"deer\",\"dog\",\"frog\",\"horse\",\"ship\",\"truck\"]"
   ]
  },
  {
   "cell_type": "code",
   "execution_count": 8,
   "id": "33a92482",
   "metadata": {
    "execution": {
     "iopub.execute_input": "2024-06-16T16:00:37.161105Z",
     "iopub.status.busy": "2024-06-16T16:00:37.160846Z",
     "iopub.status.idle": "2024-06-16T16:00:37.166590Z",
     "shell.execute_reply": "2024-06-16T16:00:37.165738Z"
    },
    "papermill": {
     "duration": 0.019768,
     "end_time": "2024-06-16T16:00:37.168436",
     "exception": false,
     "start_time": "2024-06-16T16:00:37.148668",
     "status": "completed"
    },
    "tags": []
   },
   "outputs": [
    {
     "data": {
      "text/plain": [
       "'cat'"
      ]
     },
     "execution_count": 8,
     "metadata": {},
     "output_type": "execute_result"
    }
   ],
   "source": [
    "labels[y_test[0][0]]"
   ]
  },
  {
   "cell_type": "code",
   "execution_count": 9,
   "id": "5f31641f",
   "metadata": {
    "execution": {
     "iopub.execute_input": "2024-06-16T16:00:37.192424Z",
     "iopub.status.busy": "2024-06-16T16:00:37.192129Z",
     "iopub.status.idle": "2024-06-16T16:00:37.196791Z",
     "shell.execute_reply": "2024-06-16T16:00:37.195929Z"
    },
    "papermill": {
     "duration": 0.018868,
     "end_time": "2024-06-16T16:00:37.198698",
     "exception": false,
     "start_time": "2024-06-16T16:00:37.179830",
     "status": "completed"
    },
    "tags": []
   },
   "outputs": [],
   "source": [
    "def train_f(x,y,index):\n",
    "    plt.figure(figsize=(14,2))\n",
    "    plt.imshow(x[index])\n",
    "    plt.xlabel(labels[y[index][0]])# here y_train is a 2D array and in every row,there is only one element,thats why i am passing [index][0]\n",
    "    "
   ]
  },
  {
   "cell_type": "markdown",
   "id": "5aa062a0",
   "metadata": {
    "papermill": {
     "duration": 0.011373,
     "end_time": "2024-06-16T16:00:37.221639",
     "exception": false,
     "start_time": "2024-06-16T16:00:37.210266",
     "status": "completed"
    },
    "tags": []
   },
   "source": [
    "here another solution could be applicable:\n",
    "i.converting y_train value in 1D array form 2D\n",
    "ii. then pass labels[y[index]].\n",
    "\n",
    "for converting in 1D array:\n",
    "y_train = y_train.reshape(-1,)"
   ]
  },
  {
   "cell_type": "code",
   "execution_count": 10,
   "id": "679fa2a4",
   "metadata": {
    "execution": {
     "iopub.execute_input": "2024-06-16T16:00:37.246261Z",
     "iopub.status.busy": "2024-06-16T16:00:37.245444Z",
     "iopub.status.idle": "2024-06-16T16:00:37.397884Z",
     "shell.execute_reply": "2024-06-16T16:00:37.396811Z"
    },
    "papermill": {
     "duration": 0.167679,
     "end_time": "2024-06-16T16:00:37.400792",
     "exception": false,
     "start_time": "2024-06-16T16:00:37.233113",
     "status": "completed"
    },
    "tags": []
   },
   "outputs": [
    {
     "data": {
      "image/png": "[encoded data removed]",
      "text/plain": [
       "<Figure size 1400x200 with 1 Axes>"
      ]
     },
     "metadata": {},
     "output_type": "display_data"
    }
   ],
   "source": [
    "train_f(x_train,y_train,9)"
   ]
  },
  {
   "cell_type": "code",
   "execution_count": 11,
   "id": "2186320e",
   "metadata": {
    "execution": {
     "iopub.execute_input": "2024-06-16T16:00:37.426290Z",
     "iopub.status.busy": "2024-06-16T16:00:37.425964Z",
     "iopub.status.idle": "2024-06-16T16:00:37.432289Z",
     "shell.execute_reply": "2024-06-16T16:00:37.431250Z"
    },
    "papermill": {
     "duration": 0.021598,
     "end_time": "2024-06-16T16:00:37.434467",
     "exception": false,
     "start_time": "2024-06-16T16:00:37.412869",
     "status": "completed"
    },
    "tags": []
   },
   "outputs": [
    {
     "data": {
      "text/plain": [
       "array([6, 9, 9, 4, 1], dtype=uint8)"
      ]
     },
     "execution_count": 11,
     "metadata": {},
     "output_type": "execute_result"
    }
   ],
   "source": [
    "y_train = y_train.reshape(-1,)\n",
    "y_train[:5]"
   ]
  },
  {
   "cell_type": "markdown",
   "id": "88223356",
   "metadata": {
    "papermill": {
     "duration": 0.011526,
     "end_time": "2024-06-16T16:00:37.458547",
     "exception": false,
     "start_time": "2024-06-16T16:00:37.447021",
     "status": "completed"
    },
    "tags": []
   },
   "source": [
    "# Normalizing the training data"
   ]
  },
  {
   "cell_type": "markdown",
   "id": "f63d9d9d",
   "metadata": {
    "papermill": {
     "duration": 0.012045,
     "end_time": "2024-06-16T16:00:37.482398",
     "exception": false,
     "start_time": "2024-06-16T16:00:37.470353",
     "status": "completed"
    },
    "tags": []
   },
   "source": [
    "since the range of RGB is 0->255 we need to divide the train data by 255"
   ]
  },
  {
   "cell_type": "code",
   "execution_count": 12,
   "id": "99666660",
   "metadata": {
    "execution": {
     "iopub.execute_input": "2024-06-16T16:00:37.509590Z",
     "iopub.status.busy": "2024-06-16T16:00:37.508685Z",
     "iopub.status.idle": "2024-06-16T16:00:37.966414Z",
     "shell.execute_reply": "2024-06-16T16:00:37.965626Z"
    },
    "papermill": {
     "duration": 0.473061,
     "end_time": "2024-06-16T16:00:37.968717",
     "exception": false,
     "start_time": "2024-06-16T16:00:37.495656",
     "status": "completed"
    },
    "tags": []
   },
   "outputs": [],
   "source": [
    "x_train=x_train/255.0\n",
    "x_test=x_test/255.0"
   ]
  },
  {
   "cell_type": "markdown",
   "id": "cefa75fb",
   "metadata": {
    "papermill": {
     "duration": 0.01155,
     "end_time": "2024-06-16T16:00:37.992424",
     "exception": false,
     "start_time": "2024-06-16T16:00:37.980874",
     "status": "completed"
    },
    "tags": []
   },
   "source": [
    "CNN"
   ]
  },
  {
   "cell_type": "code",
   "execution_count": 13,
   "id": "2ee7b502",
   "metadata": {
    "execution": {
     "iopub.execute_input": "2024-06-16T16:00:38.017484Z",
     "iopub.status.busy": "2024-06-16T16:00:38.017144Z",
     "iopub.status.idle": "2024-06-16T16:00:38.828706Z",
     "shell.execute_reply": "2024-06-16T16:00:38.827933Z"
    },
    "papermill": {
     "duration": 0.826572,
     "end_time": "2024-06-16T16:00:38.830919",
     "exception": false,
     "start_time": "2024-06-16T16:00:38.004347",
     "status": "completed"
    },
    "tags": []
   },
   "outputs": [
    {
     "name": "stderr",
     "output_type": "stream",
     "text": [
      "/opt/conda/lib/python3.10/site-packages/keras/src/layers/convolutional/base_conv.py:107: UserWarning: Do not pass an `input_shape`/`input_dim` argument to a layer. When using Sequential models, prefer using an `Input(shape)` object as the first layer in the model instead.\n",
      "  super().__init__(activity_regularizer=activity_regularizer, **kwargs)\n"
     ]
    }
   ],
   "source": [
    "cnn= models.Sequential([\n",
    "    #cnn\n",
    "    layers.Conv2D(filters=32,kernel_size=(3,3),activation='relu',input_shape=(32,32,3)),\n",
    "    layers.MaxPooling2D((2,2)),\n",
    "    \n",
    "    layers.Conv2D(filters=32,kernel_size=(3,3),activation='relu',input_shape=(32,32,3)),\n",
    "    layers.MaxPooling2D((2,2)),\n",
    "    \n",
    "    \n",
    "    #dense\n",
    "    layers.Flatten(),\n",
    "    layers.Dense(64, activation='relu'),\n",
    "    layers.Dense(10, activation='softmax')\n",
    "    \n",
    "\n",
    "    \n",
    "])"
   ]
  },
  {
   "cell_type": "code",
   "execution_count": 14,
   "id": "5494447c",
   "metadata": {
    "execution": {
     "iopub.execute_input": "2024-06-16T16:00:38.857197Z",
     "iopub.status.busy": "2024-06-16T16:00:38.856618Z",
     "iopub.status.idle": "2024-06-16T16:00:38.870338Z",
     "shell.execute_reply": "2024-06-16T16:00:38.869406Z"
    },
    "papermill": {
     "duration": 0.028866,
     "end_time": "2024-06-16T16:00:38.872372",
     "exception": false,
     "start_time": "2024-06-16T16:00:38.843506",
     "status": "completed"
    },
    "tags": []
   },
   "outputs": [],
   "source": [
    "cnn.compile(optimizer='adam',\n",
    "              loss='sparse_categorical_crossentropy',\n",
    "              metrics=['accuracy'])"
   ]
  },
  {
   "cell_type": "code",
   "execution_count": 15,
   "id": "c7a1e8aa",
   "metadata": {
    "execution": {
     "iopub.execute_input": "2024-06-16T16:00:38.897414Z",
     "iopub.status.busy": "2024-06-16T16:00:38.897122Z",
     "iopub.status.idle": "2024-06-16T16:01:27.053545Z",
     "shell.execute_reply": "2024-06-16T16:01:27.052622Z"
    },
    "papermill": {
     "duration": 48.171617,
     "end_time": "2024-06-16T16:01:27.056127",
     "exception": false,
     "start_time": "2024-06-16T16:00:38.884510",
     "status": "completed"
    },
    "tags": []
   },
   "outputs": [
    {
     "name": "stdout",
     "output_type": "stream",
     "text": [
      "Epoch 1/12\n",
      "\u001b[1m  80/1563\u001b[0m \u001b[32m━\u001b[0m\u001b[37m━━━━━━━━━━━━━━━━━━━\u001b[0m \u001b[1m2s\u001b[0m 2ms/step - accuracy: 0.1562 - loss: 2.2527"
     ]
    },
    {
     "name": "stderr",
     "output_type": "stream",
     "text": [
      "WARNING: All log messages before absl::InitializeLog() is called are written to STDERR\n",
      "I0000 00:00:1718553645.100424      70 device_compiler.h:186] Compiled cluster using XLA!  This line is logged at most once for the lifetime of the process.\n",
      "W0000 00:00:1718553645.117042      70 graph_launch.cc:671] Fallback to op-by-op mode because memset node breaks graph update\n"
     ]
    },
    {
     "name": "stdout",
     "output_type": "stream",
     "text": [
      "\u001b[1m1563/1563\u001b[0m \u001b[32m━━━━━━━━━━━━━━━━━━━━\u001b[0m\u001b[37m\u001b[0m \u001b[1m9s\u001b[0m 3ms/step - accuracy: 0.3662 - loss: 1.7422\n",
      "Epoch 2/12\n",
      "\u001b[1m  83/1563\u001b[0m \u001b[32m━\u001b[0m\u001b[37m━━━━━━━━━━━━━━━━━━━\u001b[0m \u001b[1m2s\u001b[0m 2ms/step - accuracy: 0.5434 - loss: 1.2797"
     ]
    },
    {
     "name": "stderr",
     "output_type": "stream",
     "text": [
      "W0000 00:00:1718553649.730054      72 graph_launch.cc:671] Fallback to op-by-op mode because memset node breaks graph update\n"
     ]
    },
    {
     "name": "stdout",
     "output_type": "stream",
     "text": [
      "\u001b[1m1563/1563\u001b[0m \u001b[32m━━━━━━━━━━━━━━━━━━━━\u001b[0m\u001b[37m\u001b[0m \u001b[1m3s\u001b[0m 2ms/step - accuracy: 0.5628 - loss: 1.2328\n",
      "Epoch 3/12\n",
      "\u001b[1m1563/1563\u001b[0m \u001b[32m━━━━━━━━━━━━━━━━━━━━\u001b[0m\u001b[37m\u001b[0m \u001b[1m3s\u001b[0m 2ms/step - accuracy: 0.6235 - loss: 1.0769\n",
      "Epoch 4/12\n",
      "\u001b[1m1563/1563\u001b[0m \u001b[32m━━━━━━━━━━━━━━━━━━━━\u001b[0m\u001b[37m\u001b[0m \u001b[1m3s\u001b[0m 2ms/step - accuracy: 0.6593 - loss: 0.9773\n",
      "Epoch 5/12\n",
      "\u001b[1m1563/1563\u001b[0m \u001b[32m━━━━━━━━━━━━━━━━━━━━\u001b[0m\u001b[37m\u001b[0m \u001b[1m4s\u001b[0m 2ms/step - accuracy: 0.6839 - loss: 0.9165\n",
      "Epoch 6/12\n",
      "\u001b[1m1563/1563\u001b[0m \u001b[32m━━━━━━━━━━━━━━━━━━━━\u001b[0m\u001b[37m\u001b[0m \u001b[1m3s\u001b[0m 2ms/step - accuracy: 0.7071 - loss: 0.8491\n",
      "Epoch 7/12\n",
      "\u001b[1m1563/1563\u001b[0m \u001b[32m━━━━━━━━━━━━━━━━━━━━\u001b[0m\u001b[37m\u001b[0m \u001b[1m3s\u001b[0m 2ms/step - accuracy: 0.7162 - loss: 0.8173\n",
      "Epoch 8/12\n",
      "\u001b[1m1563/1563\u001b[0m \u001b[32m━━━━━━━━━━━━━━━━━━━━\u001b[0m\u001b[37m\u001b[0m \u001b[1m3s\u001b[0m 2ms/step - accuracy: 0.7281 - loss: 0.7845\n",
      "Epoch 9/12\n",
      "\u001b[1m1563/1563\u001b[0m \u001b[32m━━━━━━━━━━━━━━━━━━━━\u001b[0m\u001b[37m\u001b[0m \u001b[1m3s\u001b[0m 2ms/step - accuracy: 0.7399 - loss: 0.7541\n",
      "Epoch 10/12\n",
      "\u001b[1m1563/1563\u001b[0m \u001b[32m━━━━━━━━━━━━━━━━━━━━\u001b[0m\u001b[37m\u001b[0m \u001b[1m3s\u001b[0m 2ms/step - accuracy: 0.7505 - loss: 0.7162\n",
      "Epoch 11/12\n",
      "\u001b[1m1563/1563\u001b[0m \u001b[32m━━━━━━━━━━━━━━━━━━━━\u001b[0m\u001b[37m\u001b[0m \u001b[1m3s\u001b[0m 2ms/step - accuracy: 0.7619 - loss: 0.6896\n",
      "Epoch 12/12\n",
      "\u001b[1m1563/1563\u001b[0m \u001b[32m━━━━━━━━━━━━━━━━━━━━\u001b[0m\u001b[37m\u001b[0m \u001b[1m3s\u001b[0m 2ms/step - accuracy: 0.7632 - loss: 0.6756\n"
     ]
    },
    {
     "data": {
      "text/plain": [
       "<keras.src.callbacks.history.History at 0x7fd86eece980>"
      ]
     },
     "execution_count": 15,
     "metadata": {},
     "output_type": "execute_result"
    }
   ],
   "source": [
    "cnn.fit(x_train, y_train, epochs=12)\n"
   ]
  },
  {
   "cell_type": "code",
   "execution_count": 16,
   "id": "9c833157",
   "metadata": {
    "execution": {
     "iopub.execute_input": "2024-06-16T16:01:27.230134Z",
     "iopub.status.busy": "2024-06-16T16:01:27.229754Z",
     "iopub.status.idle": "2024-06-16T16:01:29.154156Z",
     "shell.execute_reply": "2024-06-16T16:01:29.153244Z"
    },
    "papermill": {
     "duration": 2.010058,
     "end_time": "2024-06-16T16:01:29.156058",
     "exception": false,
     "start_time": "2024-06-16T16:01:27.146000",
     "status": "completed"
    },
    "tags": []
   },
   "outputs": [
    {
     "name": "stdout",
     "output_type": "stream",
     "text": [
      "\u001b[1m 96/313\u001b[0m \u001b[32m━━━━━━\u001b[0m\u001b[37m━━━━━━━━━━━━━━\u001b[0m \u001b[1m0s\u001b[0m 2ms/step - accuracy: 0.7033 - loss: 0.9102"
     ]
    },
    {
     "name": "stderr",
     "output_type": "stream",
     "text": [
      "W0000 00:00:1718553688.279806      70 graph_launch.cc:671] Fallback to op-by-op mode because memset node breaks graph update\n"
     ]
    },
    {
     "name": "stdout",
     "output_type": "stream",
     "text": [
      "\u001b[1m313/313\u001b[0m \u001b[32m━━━━━━━━━━━━━━━━━━━━\u001b[0m\u001b[37m\u001b[0m \u001b[1m1s\u001b[0m 3ms/step - accuracy: 0.6955 - loss: 0.9293\n"
     ]
    },
    {
     "name": "stderr",
     "output_type": "stream",
     "text": [
      "W0000 00:00:1718553689.133774      70 graph_launch.cc:671] Fallback to op-by-op mode because memset node breaks graph update\n"
     ]
    },
    {
     "data": {
      "text/plain": [
       "[0.9423222541809082, 0.6899999976158142]"
      ]
     },
     "execution_count": 16,
     "metadata": {},
     "output_type": "execute_result"
    }
   ],
   "source": [
    "cnn.evaluate(x_test,y_test)"
   ]
  },
  {
   "cell_type": "code",
   "execution_count": 17,
   "id": "a6dd6c3a",
   "metadata": {
    "execution": {
     "iopub.execute_input": "2024-06-16T16:01:29.355117Z",
     "iopub.status.busy": "2024-06-16T16:01:29.354749Z",
     "iopub.status.idle": "2024-06-16T16:01:29.358510Z",
     "shell.execute_reply": "2024-06-16T16:01:29.357708Z"
    },
    "papermill": {
     "duration": 0.126416,
     "end_time": "2024-06-16T16:01:29.360450",
     "exception": false,
     "start_time": "2024-06-16T16:01:29.234034",
     "status": "completed"
    },
    "tags": []
   },
   "outputs": [],
   "source": [
    "#y_test = y_test.reshape(-1,)\n",
    "#y_test"
   ]
  },
  {
   "cell_type": "code",
   "execution_count": 18,
   "id": "e0f90122",
   "metadata": {
    "execution": {
     "iopub.execute_input": "2024-06-16T16:01:29.515970Z",
     "iopub.status.busy": "2024-06-16T16:01:29.515534Z",
     "iopub.status.idle": "2024-06-16T16:01:29.654944Z",
     "shell.execute_reply": "2024-06-16T16:01:29.653853Z"
    },
    "papermill": {
     "duration": 0.220329,
     "end_time": "2024-06-16T16:01:29.657650",
     "exception": false,
     "start_time": "2024-06-16T16:01:29.437321",
     "status": "completed"
    },
    "tags": []
   },
   "outputs": [
    {
     "data": {
      "image/png": "[encoded data removed]",
      "text/plain": [
       "<Figure size 1400x200 with 1 Axes>"
      ]
     },
     "metadata": {},
     "output_type": "display_data"
    }
   ],
   "source": [
    "train_f(x_test, y_test,3)"
   ]
  },
  {
   "cell_type": "code",
   "execution_count": 19,
   "id": "d35f7b73",
   "metadata": {
    "execution": {
     "iopub.execute_input": "2024-06-16T16:01:29.816357Z",
     "iopub.status.busy": "2024-06-16T16:01:29.816001Z",
     "iopub.status.idle": "2024-06-16T16:01:31.437795Z",
     "shell.execute_reply": "2024-06-16T16:01:31.436740Z"
    },
    "papermill": {
     "duration": 1.70281,
     "end_time": "2024-06-16T16:01:31.440230",
     "exception": false,
     "start_time": "2024-06-16T16:01:29.737420",
     "status": "completed"
    },
    "tags": []
   },
   "outputs": [
    {
     "name": "stdout",
     "output_type": "stream",
     "text": [
      "\u001b[1m108/313\u001b[0m \u001b[32m━━━━━━\u001b[0m\u001b[37m━━━━━━━━━━━━━━\u001b[0m \u001b[1m0s\u001b[0m 1ms/step"
     ]
    },
    {
     "name": "stderr",
     "output_type": "stream",
     "text": [
      "W0000 00:00:1718553690.542916      71 graph_launch.cc:671] Fallback to op-by-op mode because memset node breaks graph update\n"
     ]
    },
    {
     "name": "stdout",
     "output_type": "stream",
     "text": [
      "\u001b[1m313/313\u001b[0m \u001b[32m━━━━━━━━━━━━━━━━━━━━\u001b[0m\u001b[37m\u001b[0m \u001b[1m1s\u001b[0m 2ms/step\n"
     ]
    },
    {
     "name": "stderr",
     "output_type": "stream",
     "text": [
      "W0000 00:00:1718553691.242666      71 graph_launch.cc:671] Fallback to op-by-op mode because memset node breaks graph update\n"
     ]
    },
    {
     "data": {
      "text/plain": [
       "array([[6.32589124e-03, 6.22406442e-05, 1.73660908e-02, 9.06928837e-01,\n",
       "        1.48730542e-04, 6.46082610e-02, 3.39447497e-03, 1.03831255e-04,\n",
       "        9.88342101e-04, 7.32990811e-05],\n",
       "       [2.17394587e-02, 8.43722932e-03, 8.27587137e-05, 3.24205735e-06,\n",
       "        2.24538417e-06, 6.34802078e-08, 2.92647400e-07, 1.33378180e-07,\n",
       "        9.69439209e-01, 2.95403646e-04],\n",
       "       [1.11998022e-01, 5.28554797e-01, 5.34514710e-03, 1.37712033e-02,\n",
       "        7.62689812e-03, 1.56644371e-03, 8.52798461e-04, 5.39955264e-03,\n",
       "        3.11822057e-01, 1.30631439e-02],\n",
       "       [8.99875164e-01, 2.79207178e-03, 2.27366164e-02, 1.11656776e-03,\n",
       "        3.75519070e-04, 1.16750325e-05, 8.20108596e-03, 1.60891577e-05,\n",
       "        6.47898391e-02, 8.52688536e-05]], dtype=float32)"
      ]
     },
     "execution_count": 19,
     "metadata": {},
     "output_type": "execute_result"
    }
   ],
   "source": [
    "y_predict=cnn.predict(x_test)\n",
    "y_predict[:4]"
   ]
  },
  {
   "cell_type": "code",
   "execution_count": 20,
   "id": "e3c1437d",
   "metadata": {
    "execution": {
     "iopub.execute_input": "2024-06-16T16:01:31.600420Z",
     "iopub.status.busy": "2024-06-16T16:01:31.600045Z",
     "iopub.status.idle": "2024-06-16T16:01:31.636416Z",
     "shell.execute_reply": "2024-06-16T16:01:31.635522Z"
    },
    "papermill": {
     "duration": 0.118204,
     "end_time": "2024-06-16T16:01:31.638386",
     "exception": false,
     "start_time": "2024-06-16T16:01:31.520182",
     "status": "completed"
    },
    "tags": []
   },
   "outputs": [
    {
     "data": {
      "text/plain": [
       "[3, 8, 1, 0, 6]"
      ]
     },
     "execution_count": 20,
     "metadata": {},
     "output_type": "execute_result"
    }
   ],
   "source": [
    "y_classes = [np.argmax(element) for element in y_predict]\n",
    "y_classes[:5]"
   ]
  },
  {
   "cell_type": "code",
   "execution_count": 21,
   "id": "06d04bf2",
   "metadata": {
    "execution": {
     "iopub.execute_input": "2024-06-16T16:01:31.798165Z",
     "iopub.status.busy": "2024-06-16T16:01:31.797303Z",
     "iopub.status.idle": "2024-06-16T16:01:31.803726Z",
     "shell.execute_reply": "2024-06-16T16:01:31.802814Z"
    },
    "papermill": {
     "duration": 0.087729,
     "end_time": "2024-06-16T16:01:31.805776",
     "exception": false,
     "start_time": "2024-06-16T16:01:31.718047",
     "status": "completed"
    },
    "tags": []
   },
   "outputs": [
    {
     "data": {
      "text/plain": [
       "array([[3],\n",
       "       [8],\n",
       "       [8],\n",
       "       [0],\n",
       "       [6]], dtype=uint8)"
      ]
     },
     "execution_count": 21,
     "metadata": {},
     "output_type": "execute_result"
    }
   ],
   "source": [
    "y_test[:5]"
   ]
  },
  {
   "cell_type": "code",
   "execution_count": 22,
   "id": "4850b00f",
   "metadata": {
    "execution": {
     "iopub.execute_input": "2024-06-16T16:01:31.967914Z",
     "iopub.status.busy": "2024-06-16T16:01:31.967516Z",
     "iopub.status.idle": "2024-06-16T16:01:32.166890Z",
     "shell.execute_reply": "2024-06-16T16:01:32.165948Z"
    },
    "papermill": {
     "duration": 0.280938,
     "end_time": "2024-06-16T16:01:32.169011",
     "exception": false,
     "start_time": "2024-06-16T16:01:31.888073",
     "status": "completed"
    },
    "tags": []
   },
   "outputs": [
    {
     "data": {
      "image/png": "[encoded data removed]",
      "text/plain": [
       "<Figure size 1400x200 with 1 Axes>"
      ]
     },
     "metadata": {},
     "output_type": "display_data"
    }
   ],
   "source": [
    "train_f(x_test, y_test,4)"
   ]
  },
  {
   "cell_type": "code",
   "execution_count": 23,
   "id": "6ee59aae",
   "metadata": {
    "execution": {
     "iopub.execute_input": "2024-06-16T16:01:32.330694Z",
     "iopub.status.busy": "2024-06-16T16:01:32.329817Z",
     "iopub.status.idle": "2024-06-16T16:01:32.335807Z",
     "shell.execute_reply": "2024-06-16T16:01:32.334912Z"
    },
    "papermill": {
     "duration": 0.089811,
     "end_time": "2024-06-16T16:01:32.337817",
     "exception": false,
     "start_time": "2024-06-16T16:01:32.248006",
     "status": "completed"
    },
    "tags": []
   },
   "outputs": [
    {
     "data": {
      "text/plain": [
       "'frog'"
      ]
     },
     "execution_count": 23,
     "metadata": {},
     "output_type": "execute_result"
    }
   ],
   "source": [
    "labels[y_classes[4]]"
   ]
  }
 ],
 "metadata": {
  "kaggle": {
   "accelerator": "nvidiaTeslaT4",
   "dataSources": [],
   "dockerImageVersionId": 30732,
   "isGpuEnabled": true,
   "isInternetEnabled": true,
   "language": "python",
   "sourceType": "notebook"
  },
  "kernelspec": {
   "display_name": "Python 3",
   "language": "python",
   "name": "python3"
  },
  "language_info": {
   "codemirror_mode": {
    "name": "ipython",
    "version": 3
   },
   "file_extension": ".py",
   "mimetype": "text/x-python",
   "name": "python",
   "nbconvert_exporter": "python",
   "pygments_lexer": "ipython3",
   "version": "3.10.13"
  },
  "papermill": {
   "default_parameters": {},
   "duration": 77.117715,
   "end_time": "2024-06-16T16:01:35.241344",
   "environment_variables": {},
   "exception": null,
   "input_path": "__notebook__.ipynb",
   "output_path": "__notebook__.ipynb",
   "parameters": {},
   "start_time": "2024-06-16T16:00:18.123629",
   "version": "2.5.0"
  }
 },
 "nbformat": 4,
 "nbformat_minor": 5
}
